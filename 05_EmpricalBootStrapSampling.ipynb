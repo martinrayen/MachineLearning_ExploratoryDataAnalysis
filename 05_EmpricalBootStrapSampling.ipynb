{
 "cells": [
  {
   "cell_type": "markdown",
   "metadata": {},
   "source": [
    "# Empirical bootstrap based Confidence Interval"
   ]
  },
  {
   "cell_type": "code",
   "execution_count": 5,
   "metadata": {},
   "outputs": [
    {
     "data": {
      "image/png": "[encoded data removed]",
      "text/plain": [
       "<matplotlib.figure.Figure at 0x1c64242a278>"
      ]
     },
     "metadata": {},
     "output_type": "display_data"
    },
    {
     "name": "stdout",
     "output_type": "stream",
     "text": [
      "lower :  2.500000000000002\n",
      "upper :  97.5\n",
      "95.0 confidence interval 162.0 and 176.0\n"
     ]
    }
   ],
   "source": [
    "import numpy\n",
    "from pandas import read_csv\n",
    "from sklearn.utils import resample\n",
    "from sklearn.metrics import accuracy_score\n",
    "from matplotlib import pyplot\n",
    "%matplotlib inline \n",
    "\n",
    "# load dataset\n",
    "x = numpy.array([180,162,158,172,168,150,171,183,165,176])\n",
    "\n",
    "# configure bootstrap\n",
    "# Generate 1000 bootstrap samples.\n",
    "n_iterations = 1000\n",
    "# Sample Size\n",
    "n_size = int(len(x))\n",
    "\n",
    "# run bootstrap\n",
    "medians = list()\n",
    "for i in range(n_iterations):\n",
    "    # prepare train and test sets\n",
    "    s = resample(x, n_samples=n_size);\n",
    "    m = numpy.median(s);\n",
    "    #print(m)\n",
    "    medians.append(m)\n",
    "\n",
    "# plot scores\n",
    "pyplot.hist(medians)\n",
    "pyplot.show()\n",
    "\n",
    "# confidence intervals\n",
    "# CI\n",
    "alpha = 0.95\n",
    "# 25th Percentile\n",
    "p = ((1.0-alpha)/2.0) * 100\n",
    "print(\"lower : \",p)\n",
    "lower =  numpy.percentile(medians, p)\n",
    "# 75th Perentile\n",
    "p = (alpha+((1.0-alpha)/2.0)) * 100\n",
    "print(\"upper : \",p)\n",
    "upper =  numpy.percentile(medians, p)\n",
    "# Since sample count is 1000, and we need 95th Percetile, we take lower = 2.5 and upper = 97.5\n",
    "# upper - lower = 97.5 - 2.5 = 95\n",
    "print('%.1f confidence interval %.1f and %.1f' % (alpha*100, lower, upper))\n",
    "\n"
   ]
  },
  {
   "cell_type": "code",
   "execution_count": null,
   "metadata": {
    "collapsed": true
   },
   "outputs": [],
   "source": []
  }
 ],
 "metadata": {
  "kernelspec": {
   "display_name": "Python 3",
   "language": "python",
   "name": "python3"
  },
  "language_info": {
   "codemirror_mode": {
    "name": "ipython",
    "version": 3
   },
   "file_extension": ".py",
   "mimetype": "text/x-python",
   "name": "python",
   "nbconvert_exporter": "python",
   "pygments_lexer": "ipython3",
   "version": "3.6.4"
  }
 },
 "nbformat": 4,
 "nbformat_minor": 2
}
